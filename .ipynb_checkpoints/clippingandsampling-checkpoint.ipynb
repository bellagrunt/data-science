{
 "cells": [
  {
   "cell_type": "markdown",
   "metadata": {},
   "source": [
    "# Clipping and sampling"
   ]
  },
  {
   "cell_type": "code",
   "execution_count": 1,
   "metadata": {},
   "outputs": [],
   "source": [
    "import numpy as np\n",
    "import numpy.random as npr"
   ]
  },
  {
   "cell_type": "code",
   "execution_count": 3,
   "metadata": {},
   "outputs": [
    {
     "name": "stdout",
     "output_type": "stream",
     "text": [
      "[ -6  -6   2  -5   6   4  -8   6  -6  -4   0   2  -3 -10  -5  -8  -9   7\n",
      "  -3   0   7  -4   2   7  -2  -2   3  -6 -10  -8  -5  -3   4   9  -5   8\n",
      "   6   3 -10   3   6   4   4  -1  -5   2   8  -6   5  -8   2  -4   8  -5\n",
      "  -8  -1  -5 -10   1  -2  -5   3   7  -1   4  -5   5  -2  -3 -10   8   0\n",
      "  -5   5 -10   7  -4  -7   9   6  -5  -2  -2   9   2  -2   2   7  -3   0\n",
      "   2   5  -7   9  -8  -1   0   1   1   0]\n"
     ]
    }
   ],
   "source": [
    "x = npr.randint(-10, 10, size=100)\n",
    "print(x)"
   ]
  },
  {
   "cell_type": "markdown",
   "metadata": {},
   "source": [
    "### Get observations that meet an upper and lower bound"
   ]
  },
  {
   "cell_type": "code",
   "execution_count": 4,
   "metadata": {},
   "outputs": [
    {
     "data": {
      "text/plain": [
       "array([-4, -4,  0, -4,  0,  0, -4,  0, -4, -4,  0,  0, -3, -4, -4, -4, -4,\n",
       "        0, -3,  0,  0, -4,  0,  0, -2, -2,  0, -4, -4, -4, -4, -3,  0,  0,\n",
       "       -4,  0,  0,  0, -4,  0,  0,  0,  0, -1, -4,  0,  0, -4,  0, -4,  0,\n",
       "       -4,  0, -4, -4, -1, -4, -4,  0, -2, -4,  0,  0, -1,  0, -4,  0, -2,\n",
       "       -3, -4,  0,  0, -4,  0, -4,  0, -4, -4,  0,  0, -4, -2, -2,  0,  0,\n",
       "       -2,  0,  0, -3,  0,  0,  0, -4,  0, -4, -1,  0,  0,  0,  0])"
      ]
     },
     "execution_count": 4,
     "metadata": {},
     "output_type": "execute_result"
    }
   ],
   "source": [
    "np.clip(x, -4, 0)"
   ]
  },
  {
   "cell_type": "markdown",
   "metadata": {},
   "source": [
    "### Replace observations with a threshold value"
   ]
  },
  {
   "cell_type": "code",
   "execution_count": 5,
   "metadata": {},
   "outputs": [
    {
     "data": {
      "text/plain": [
       "array([0, 0, 2, 0, 6, 4, 0, 6, 0, 0, 0, 2, 0, 0, 0, 0, 0, 7, 0, 0, 7, 0,\n",
       "       2, 7, 0, 0, 3, 0, 0, 0, 0, 0, 4, 9, 0, 8, 6, 3, 0, 3, 6, 4, 4, 0,\n",
       "       0, 2, 8, 0, 5, 0, 2, 0, 8, 0, 0, 0, 0, 0, 1, 0, 0, 3, 7, 0, 4, 0,\n",
       "       5, 0, 0, 0, 8, 0, 0, 5, 0, 7, 0, 0, 9, 6, 0, 0, 0, 9, 2, 0, 2, 7,\n",
       "       0, 0, 2, 5, 0, 9, 0, 0, 0, 1, 1, 0])"
      ]
     },
     "execution_count": 5,
     "metadata": {},
     "output_type": "execute_result"
    }
   ],
   "source": [
    "x.clip(0)"
   ]
  },
  {
   "cell_type": "markdown",
   "metadata": {},
   "source": [
    "### Random sampling"
   ]
  },
  {
   "cell_type": "code",
   "execution_count": 6,
   "metadata": {},
   "outputs": [
    {
     "name": "stdout",
     "output_type": "stream",
     "text": [
      "[151 958 813 416 806 766 592 911  74 226 562  10 420 881 620 851 218 135\n",
      " 177 570 296 270 901 567 927 779 644 980 153 127  86 602 143 233  27 694\n",
      " 283 818 664 944 192 203 630  50  56 107 106 728 237 209 420 786 247  79\n",
      " 661 623 817 239 922 883 595 996 958 575 983 170 390 304 861 448 876 757\n",
      " 812  76 563  72 174 572 241 315 543 323 979 733 905 277 547 490 284 796\n",
      " 311 221 752 340 150 347 944 498 852 643]\n"
     ]
    }
   ],
   "source": [
    "y = npr.randint(1000, size=100)\n",
    "print(y)"
   ]
  },
  {
   "cell_type": "code",
   "execution_count": 9,
   "metadata": {},
   "outputs": [
    {
     "data": {
      "text/plain": [
       "array([135, 543, 944, 241, 416, 630, 786, 851, 996, 592, 664, 911, 595,\n",
       "       296, 143, 806, 304, 177, 661,  76])"
      ]
     },
     "execution_count": 9,
     "metadata": {},
     "output_type": "execute_result"
    }
   ],
   "source": [
    "npr.choice(y,20, replace=False)"
   ]
  },
  {
   "cell_type": "markdown",
   "metadata": {},
   "source": [
    "### Choice can also be used to generate a non-uniform probablitiy distribution"
   ]
  },
  {
   "cell_type": "code",
   "execution_count": 13,
   "metadata": {},
   "outputs": [
    {
     "data": {
      "text/plain": [
       "array([3])"
      ]
     },
     "execution_count": 13,
     "metadata": {},
     "output_type": "execute_result"
    }
   ],
   "source": [
    "npr.choice(np.arange(1,7), 1, p=[.2, .1, .3, .15, .05, .2])"
   ]
  },
  {
   "cell_type": "markdown",
   "metadata": {},
   "source": [
    "### Stable sample"
   ]
  },
  {
   "cell_type": "code",
   "execution_count": 14,
   "metadata": {},
   "outputs": [],
   "source": [
    "z = npr.random(100)\n",
    "sample = np.argsort(z)"
   ]
  },
  {
   "cell_type": "code",
   "execution_count": 15,
   "metadata": {},
   "outputs": [
    {
     "data": {
      "text/plain": [
       "array([29, 84, 31, 21, 68, 97, 65,  7, 90, 86,  8, 71,  2, 67, 85, 23, 37,\n",
       "       26, 17, 63, 79, 20, 74, 10, 64, 49, 39, 43, 36, 22, 30, 52, 46, 78,\n",
       "       76, 35, 94, 77, 25, 40,  4, 18, 69, 11, 87, 93, 72, 70, 89,  5,  1,\n",
       "       55, 16, 33,  0, 15, 12, 75,  6, 96, 81, 47, 13, 50,  9, 38, 19,  3,\n",
       "       80, 60, 34, 99, 56, 44, 14, 27, 24, 28, 54, 73, 91, 45, 88, 61, 83,\n",
       "       66, 92, 82, 62, 42, 98, 51, 95, 57, 58, 53, 48, 32, 41, 59])"
      ]
     },
     "execution_count": 15,
     "metadata": {},
     "output_type": "execute_result"
    }
   ],
   "source": [
    "sample"
   ]
  },
  {
   "cell_type": "code",
   "execution_count": 16,
   "metadata": {},
   "outputs": [
    {
     "data": {
      "text/plain": [
       "array([4.11646199e-05, 1.38797792e-03, 1.57890197e-02, 2.15385523e-02,\n",
       "       2.18725338e-02, 2.21223787e-02, 2.68250478e-02, 3.08124512e-02,\n",
       "       3.66287600e-02, 4.09762621e-02, 4.93181731e-02, 5.11455831e-02,\n",
       "       5.80826263e-02, 5.97992980e-02, 7.18833939e-02, 8.81623046e-02,\n",
       "       1.00579394e-01, 1.09078921e-01, 1.22416221e-01, 1.24284335e-01,\n",
       "       1.29855828e-01, 1.30630030e-01, 1.37988773e-01, 1.42786730e-01,\n",
       "       1.45708532e-01, 1.51587759e-01, 1.57811909e-01, 1.59287137e-01,\n",
       "       1.61626143e-01, 1.62804706e-01, 1.76906452e-01, 1.99140169e-01,\n",
       "       2.01889248e-01, 2.16856826e-01, 2.36638885e-01, 2.52196896e-01,\n",
       "       2.66459558e-01, 2.70466555e-01, 2.82108162e-01, 3.02002800e-01,\n",
       "       3.04360915e-01, 3.08243121e-01, 3.23417796e-01, 3.26409848e-01,\n",
       "       3.29577331e-01, 3.32303523e-01, 3.48535296e-01, 3.50762913e-01,\n",
       "       3.63827798e-01, 3.64539238e-01, 3.65431351e-01, 3.72798221e-01,\n",
       "       4.13218610e-01, 4.28414995e-01, 4.33376639e-01, 4.45893722e-01,\n",
       "       4.80150755e-01, 4.80620442e-01, 4.96392798e-01, 5.04769938e-01,\n",
       "       5.08654472e-01, 5.11808973e-01, 5.49814161e-01, 5.63929135e-01,\n",
       "       5.70008542e-01, 5.80476896e-01, 5.86037254e-01, 5.89120867e-01,\n",
       "       6.10066459e-01, 6.10615764e-01, 6.36392458e-01, 6.41987238e-01,\n",
       "       6.62403266e-01, 6.65587637e-01, 6.65771709e-01, 6.96678056e-01,\n",
       "       7.00471817e-01, 7.12503436e-01, 7.27711278e-01, 7.64947786e-01,\n",
       "       7.82405658e-01, 7.95286104e-01, 8.05136960e-01, 8.25638952e-01,\n",
       "       8.27013721e-01, 8.38475296e-01, 8.39339326e-01, 8.42262971e-01,\n",
       "       8.48768254e-01, 8.58614596e-01, 8.60874383e-01, 8.85579632e-01,\n",
       "       8.93877829e-01, 8.99321458e-01, 9.00499011e-01, 9.40727674e-01,\n",
       "       9.45962941e-01, 9.59234084e-01, 9.75217871e-01, 9.90942559e-01])"
      ]
     },
     "execution_count": 16,
     "metadata": {},
     "output_type": "execute_result"
    }
   ],
   "source": [
    "z[sample]"
   ]
  },
  {
   "cell_type": "code",
   "execution_count": 17,
   "metadata": {},
   "outputs": [
    {
     "data": {
      "text/plain": [
       "array([4.11646199e-05, 1.38797792e-03, 1.57890197e-02, 2.15385523e-02,\n",
       "       2.18725338e-02, 2.21223787e-02, 2.68250478e-02, 3.08124512e-02,\n",
       "       3.66287600e-02, 4.09762621e-02, 4.93181731e-02, 5.11455831e-02,\n",
       "       5.80826263e-02, 5.97992980e-02, 7.18833939e-02, 8.81623046e-02,\n",
       "       1.00579394e-01, 1.09078921e-01, 1.22416221e-01, 1.24284335e-01])"
      ]
     },
     "execution_count": 17,
     "metadata": {},
     "output_type": "execute_result"
    }
   ],
   "source": [
    "z[sample][:20]"
   ]
  },
  {
   "cell_type": "code",
   "execution_count": 18,
   "metadata": {},
   "outputs": [
    {
     "data": {
      "text/plain": [
       "array([127, 905, 602, 270, 861, 498, 170, 911, 311, 547,  74, 757, 813,\n",
       "       304, 277, 567, 818, 644, 135, 575])"
      ]
     },
     "execution_count": 18,
     "metadata": {},
     "output_type": "execute_result"
    }
   ],
   "source": [
    "y[sample][:20]"
   ]
  },
  {
   "cell_type": "code",
   "execution_count": null,
   "metadata": {},
   "outputs": [],
   "source": []
  }
 ],
 "metadata": {
  "kernelspec": {
   "display_name": "Python 3",
   "language": "python",
   "name": "python3"
  },
  "language_info": {
   "codemirror_mode": {
    "name": "ipython",
    "version": 3
   },
   "file_extension": ".py",
   "mimetype": "text/x-python",
   "name": "python",
   "nbconvert_exporter": "python",
   "pygments_lexer": "ipython3",
   "version": "3.7.3"
  }
 },
 "nbformat": 4,
 "nbformat_minor": 4
}
