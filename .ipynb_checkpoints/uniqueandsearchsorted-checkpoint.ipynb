{
 "cells": [
  {
   "cell_type": "markdown",
   "metadata": {},
   "source": [
    "# Finding unique values and insertion points"
   ]
  },
  {
   "cell_type": "code",
   "execution_count": 2,
   "metadata": {},
   "outputs": [],
   "source": [
    "import numpy as np\n",
    "import numpy.random as npr\n",
    "from itertools import combinations"
   ]
  },
  {
   "cell_type": "code",
   "execution_count": 9,
   "metadata": {},
   "outputs": [
    {
     "data": {
      "text/plain": [
       "array(['CDH', 'CJM', 'CFM', 'CDG', 'BLM', 'CDF', 'BEK', 'DFH', 'FHJ',\n",
       "       'ACH', 'AFK', 'BFJ', 'FKL', 'DJL', 'BJK', 'FGH', 'CEG', 'BCK',\n",
       "       'GHL', 'CDE', 'EGJ', 'ELM', 'DLM', 'BGH', 'CEL', 'AGM', 'BCD',\n",
       "       'ADM', 'FHJ', 'DJL', 'ADL', 'BDF', 'AEF', 'BEL', 'CEF', 'CHK',\n",
       "       'CGJ', 'ACK', 'BJM', 'ABE', 'FGJ', 'BFJ', 'ABE', 'EJK', 'CGK',\n",
       "       'AEJ', 'BFH', 'BDK', 'BEM', 'DFJ', 'AFL', 'CDK', 'CJK', 'CGL',\n",
       "       'AJM', 'BFL', 'BDG', 'BKM', 'BDE', 'DKM'], dtype='<U3')"
      ]
     },
     "execution_count": 9,
     "metadata": {},
     "output_type": "execute_result"
    }
   ],
   "source": [
    "available = [x[0] + x[1] + x[2] for x in combinations(\"ABCDEFGHJKLM\",3)]\n",
    "symbols = npr.choice(available, 60)\n",
    "symbols"
   ]
  },
  {
   "cell_type": "markdown",
   "metadata": {},
   "source": [
    "### Returns sorted array of unique observations"
   ]
  },
  {
   "cell_type": "code",
   "execution_count": 10,
   "metadata": {},
   "outputs": [
    {
     "data": {
      "text/plain": [
       "array(['ABE', 'ACH', 'ACK', 'ADL', 'ADM', 'AEF', 'AEJ', 'AFK', 'AFL',\n",
       "       'AGM', 'AJM', 'BCD', 'BCK', 'BDE', 'BDF', 'BDG', 'BDK', 'BEK',\n",
       "       'BEL', 'BEM', 'BFH', 'BFJ', 'BFL', 'BGH', 'BJK', 'BJM', 'BKM',\n",
       "       'BLM', 'CDE', 'CDF', 'CDG', 'CDH', 'CDK', 'CEF', 'CEG', 'CEL',\n",
       "       'CFM', 'CGJ', 'CGK', 'CGL', 'CHK', 'CJK', 'CJM', 'DFH', 'DFJ',\n",
       "       'DJL', 'DKM', 'DLM', 'EGJ', 'EJK', 'ELM', 'FGH', 'FGJ', 'FHJ',\n",
       "       'FKL', 'GHL'], dtype='<U3')"
      ]
     },
     "execution_count": 10,
     "metadata": {},
     "output_type": "execute_result"
    }
   ],
   "source": [
    "np.unique(symbols)"
   ]
  },
  {
   "cell_type": "code",
   "execution_count": 11,
   "metadata": {},
   "outputs": [
    {
     "data": {
      "text/plain": [
       "56"
      ]
     },
     "execution_count": 11,
     "metadata": {},
     "output_type": "execute_result"
    }
   ],
   "source": [
    "len(np.unique(symbols))"
   ]
  },
  {
   "cell_type": "markdown",
   "metadata": {},
   "source": [
    "### Returns sorted array and index where observations occured"
   ]
  },
  {
   "cell_type": "code",
   "execution_count": 13,
   "metadata": {},
   "outputs": [],
   "source": [
    "a, b = np.unique(symbols, return_index=True)"
   ]
  },
  {
   "cell_type": "code",
   "execution_count": 14,
   "metadata": {},
   "outputs": [
    {
     "data": {
      "text/plain": [
       "array(['ABE', 'ACH', 'ACK', 'ADL', 'ADM', 'AEF', 'AEJ', 'AFK', 'AFL',\n",
       "       'AGM', 'AJM', 'BCD', 'BCK', 'BDE', 'BDF', 'BDG', 'BDK', 'BEK',\n",
       "       'BEL', 'BEM', 'BFH', 'BFJ', 'BFL', 'BGH', 'BJK', 'BJM', 'BKM',\n",
       "       'BLM', 'CDE', 'CDF', 'CDG', 'CDH', 'CDK', 'CEF', 'CEG', 'CEL',\n",
       "       'CFM', 'CGJ', 'CGK', 'CGL', 'CHK', 'CJK', 'CJM', 'DFH', 'DFJ',\n",
       "       'DJL', 'DKM', 'DLM', 'EGJ', 'EJK', 'ELM', 'FGH', 'FGJ', 'FHJ',\n",
       "       'FKL', 'GHL'], dtype='<U3')"
      ]
     },
     "execution_count": 14,
     "metadata": {},
     "output_type": "execute_result"
    }
   ],
   "source": [
    "a"
   ]
  },
  {
   "cell_type": "code",
   "execution_count": 15,
   "metadata": {},
   "outputs": [
    {
     "data": {
      "text/plain": [
       "array([39,  9, 37, 30, 27, 32, 45, 10, 50, 25, 54, 26, 17, 58, 31, 56, 47,\n",
       "        6, 33, 48, 46, 11, 55, 23, 14, 38, 57,  4, 19,  5,  3,  0, 51, 34,\n",
       "       16, 24,  2, 36, 44, 53, 35, 52,  1,  7, 49, 13, 59, 22, 20, 43, 21,\n",
       "       15, 40,  8, 12, 18])"
      ]
     },
     "execution_count": 15,
     "metadata": {},
     "output_type": "execute_result"
    }
   ],
   "source": [
    "b"
   ]
  },
  {
   "cell_type": "code",
   "execution_count": null,
   "metadata": {},
   "outputs": [],
   "source": []
  },
  {
   "cell_type": "markdown",
   "metadata": {},
   "source": [
    "### return_inverse"
   ]
  },
  {
   "cell_type": "code",
   "execution_count": 16,
   "metadata": {},
   "outputs": [],
   "source": [
    "unique, index = np.unique(symbols, return_inverse=True)"
   ]
  },
  {
   "cell_type": "code",
   "execution_count": 18,
   "metadata": {},
   "outputs": [
    {
     "data": {
      "text/plain": [
       "array(['CDH', 'CJM', 'CFM', 'CDG', 'BLM', 'CDF', 'BEK', 'DFH', 'FHJ',\n",
       "       'ACH', 'AFK', 'BFJ', 'FKL', 'DJL', 'BJK', 'FGH', 'CEG', 'BCK',\n",
       "       'GHL', 'CDE', 'EGJ', 'ELM', 'DLM', 'BGH', 'CEL', 'AGM', 'BCD',\n",
       "       'ADM', 'FHJ', 'DJL', 'ADL', 'BDF', 'AEF', 'BEL', 'CEF', 'CHK',\n",
       "       'CGJ', 'ACK', 'BJM', 'ABE', 'FGJ', 'BFJ', 'ABE', 'EJK', 'CGK',\n",
       "       'AEJ', 'BFH', 'BDK', 'BEM', 'DFJ', 'AFL', 'CDK', 'CJK', 'CGL',\n",
       "       'AJM', 'BFL', 'BDG', 'BKM', 'BDE', 'DKM'], dtype='<U3')"
      ]
     },
     "execution_count": 18,
     "metadata": {},
     "output_type": "execute_result"
    }
   ],
   "source": [
    "unique[index]"
   ]
  },
  {
   "cell_type": "code",
   "execution_count": null,
   "metadata": {},
   "outputs": [],
   "source": []
  },
  {
   "cell_type": "markdown",
   "metadata": {},
   "source": [
    "### Return counts of observations"
   ]
  },
  {
   "cell_type": "code",
   "execution_count": 19,
   "metadata": {},
   "outputs": [
    {
     "data": {
      "text/plain": [
       "(array(['ABE', 'ACH', 'ACK', 'ADL', 'ADM', 'AEF', 'AEJ', 'AFK', 'AFL',\n",
       "        'AGM', 'AJM', 'BCD', 'BCK', 'BDE', 'BDF', 'BDG', 'BDK', 'BEK',\n",
       "        'BEL', 'BEM', 'BFH', 'BFJ', 'BFL', 'BGH', 'BJK', 'BJM', 'BKM',\n",
       "        'BLM', 'CDE', 'CDF', 'CDG', 'CDH', 'CDK', 'CEF', 'CEG', 'CEL',\n",
       "        'CFM', 'CGJ', 'CGK', 'CGL', 'CHK', 'CJK', 'CJM', 'DFH', 'DFJ',\n",
       "        'DJL', 'DKM', 'DLM', 'EGJ', 'EJK', 'ELM', 'FGH', 'FGJ', 'FHJ',\n",
       "        'FKL', 'GHL'], dtype='<U3'),\n",
       " array([2, 1, 1, 1, 1, 1, 1, 1, 1, 1, 1, 1, 1, 1, 1, 1, 1, 1, 1, 1, 1, 2,\n",
       "        1, 1, 1, 1, 1, 1, 1, 1, 1, 1, 1, 1, 1, 1, 1, 1, 1, 1, 1, 1, 1, 1,\n",
       "        1, 2, 1, 1, 1, 1, 1, 1, 1, 2, 1, 1]))"
      ]
     },
     "execution_count": 19,
     "metadata": {},
     "output_type": "execute_result"
    }
   ],
   "source": [
    "np.unique(symbols, return_counts=True)"
   ]
  },
  {
   "cell_type": "markdown",
   "metadata": {},
   "source": [
    "### Return the index where a value should be inserted to maintain order in sorted array"
   ]
  },
  {
   "cell_type": "code",
   "execution_count": 20,
   "metadata": {},
   "outputs": [
    {
     "data": {
      "text/plain": [
       "49"
      ]
     },
     "execution_count": 20,
     "metadata": {},
     "output_type": "execute_result"
    }
   ],
   "source": [
    "np.searchsorted(symbols, \"BFD\")"
   ]
  },
  {
   "cell_type": "code",
   "execution_count": 21,
   "metadata": {},
   "outputs": [
    {
     "data": {
      "text/plain": [
       "array([46,  0, 49])"
      ]
     },
     "execution_count": 21,
     "metadata": {},
     "output_type": "execute_result"
    }
   ],
   "source": [
    "np.searchsorted(symbols, ['BDF', 'AKA', 'CBA'])"
   ]
  },
  {
   "cell_type": "code",
   "execution_count": null,
   "metadata": {},
   "outputs": [],
   "source": []
  }
 ],
 "metadata": {
  "kernelspec": {
   "display_name": "Python 3",
   "language": "python",
   "name": "python3"
  },
  "language_info": {
   "codemirror_mode": {
    "name": "ipython",
    "version": 3
   },
   "file_extension": ".py",
   "mimetype": "text/x-python",
   "name": "python",
   "nbconvert_exporter": "python",
   "pygments_lexer": "ipython3",
   "version": "3.7.3"
  }
 },
 "nbformat": 4,
 "nbformat_minor": 4
}
