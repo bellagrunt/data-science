{
 "cells": [
  {
   "cell_type": "markdown",
   "metadata": {},
   "source": [
    "# working with random distributions"
   ]
  },
  {
   "cell_type": "code",
   "execution_count": 3,
   "metadata": {},
   "outputs": [],
   "source": [
    "import numpy as np\n",
    "import numpy.random as npr\n",
    "import matplotlib.pyplot as plt"
   ]
  },
  {
   "cell_type": "markdown",
   "metadata": {},
   "source": [
    "## suppose you need to simulate values from a normal distribution"
   ]
  },
  {
   "cell_type": "code",
   "execution_count": 15,
   "metadata": {},
   "outputs": [
    {
     "name": "stdout",
     "output_type": "stream",
     "text": [
      "{'  -0.0032010773'}\n",
      "{'   0.9991111064'}\n"
     ]
    }
   ],
   "source": [
    "x = npr.standard_normal(100000)\n",
    "print({\"{:15.10f}\".format(x.mean())})\n",
    "print({\"{:15.10f}\".format(x.std())})"
   ]
  },
  {
   "cell_type": "code",
   "execution_count": 16,
   "metadata": {},
   "outputs": [
    {
     "data": {
      "text/plain": [
       "(array([   61.,   738.,  5005., 17262., 31103., 28585., 13399.,  3400.,\n",
       "          413.,    34.]),\n",
       " array([-4.0816173 , -3.24520174, -2.40878619, -1.57237063, -0.73595508,\n",
       "         0.10046048,  0.93687604,  1.77329159,  2.60970715,  3.4461227 ,\n",
       "         4.28253826]),\n",
       " <a list of 10 Patch objects>)"
      ]
     },
     "execution_count": 16,
     "metadata": {},
     "output_type": "execute_result"
    },
    {
     "data": {
      "image/png": "[encoded data removed]",
      "text/plain": [
       "<Figure size 432x288 with 1 Axes>"
      ]
     },
     "metadata": {
      "needs_background": "light"
     },
     "output_type": "display_data"
    }
   ],
   "source": [
    "plt.hist(x)"
   ]
  },
  {
   "cell_type": "code",
   "execution_count": 17,
   "metadata": {},
   "outputs": [
    {
     "data": {
      "text/plain": [
       "(array([4.000e+00, 5.000e+00, 1.200e+01, 1.700e+01, 2.300e+01, 5.300e+01,\n",
       "        8.400e+01, 1.030e+02, 2.090e+02, 2.890e+02, 4.110e+02, 6.890e+02,\n",
       "        9.350e+02, 1.270e+03, 1.700e+03, 2.213e+03, 2.807e+03, 3.408e+03,\n",
       "        4.080e+03, 4.754e+03, 5.481e+03, 5.967e+03, 6.375e+03, 6.665e+03,\n",
       "        6.615e+03, 6.573e+03, 6.240e+03, 5.917e+03, 5.208e+03, 4.647e+03,\n",
       "        3.919e+03, 3.283e+03, 2.638e+03, 2.013e+03, 1.546e+03, 1.179e+03,\n",
       "        8.680e+02, 6.230e+02, 4.450e+02, 2.850e+02, 1.640e+02, 1.130e+02,\n",
       "        7.500e+01, 4.200e+01, 1.900e+01, 1.500e+01, 1.000e+01, 3.000e+00,\n",
       "        2.000e+00, 4.000e+00]),\n",
       " array([-4.0816173 , -3.91433419, -3.74705108, -3.57976797, -3.41248485,\n",
       "        -3.24520174, -3.07791863, -2.91063552, -2.74335241, -2.5760693 ,\n",
       "        -2.40878619, -2.24150308, -2.07421997, -1.90693685, -1.73965374,\n",
       "        -1.57237063, -1.40508752, -1.23780441, -1.0705213 , -0.90323819,\n",
       "        -0.73595508, -0.56867196, -0.40138885, -0.23410574, -0.06682263,\n",
       "         0.10046048,  0.26774359,  0.4350267 ,  0.60230981,  0.76959292,\n",
       "         0.93687604,  1.10415915,  1.27144226,  1.43872537,  1.60600848,\n",
       "         1.77329159,  1.9405747 ,  2.10785781,  2.27514093,  2.44242404,\n",
       "         2.60970715,  2.77699026,  2.94427337,  3.11155648,  3.27883959,\n",
       "         3.4461227 ,  3.61340581,  3.78068893,  3.94797204,  4.11525515,\n",
       "         4.28253826]),\n",
       " <a list of 50 Patch objects>)"
      ]
     },
     "execution_count": 17,
     "metadata": {},
     "output_type": "execute_result"
    },
    {
     "data": {
      "image/png": "[encoded data removed]",
      "text/plain": [
       "<Figure size 432x288 with 1 Axes>"
      ]
     },
     "metadata": {
      "needs_background": "light"
     },
     "output_type": "display_data"
    }
   ],
   "source": [
    "plt.hist(x, bins=50)"
   ]
  },
  {
   "cell_type": "code",
   "execution_count": 18,
   "metadata": {},
   "outputs": [
    {
     "name": "stdout",
     "output_type": "stream",
     "text": [
      "   0.0000000000\n",
      "   0.9991162344\n"
     ]
    }
   ],
   "source": [
    "y = np.concatenate([x, -x])\n",
    "print(\"{:15.10f}\".format(y.mean()))\n",
    "print(\"{:15.10f}\".format(y.std()))"
   ]
  },
  {
   "cell_type": "code",
   "execution_count": 19,
   "metadata": {},
   "outputs": [
    {
     "data": {
      "text/plain": [
       "(array([4.0000e+00, 6.0000e+00, 7.0000e+00, 2.5000e+01, 3.1000e+01,\n",
       "        4.7000e+01, 9.7000e+01, 1.6900e+02, 2.3500e+02, 3.9500e+02,\n",
       "        6.3600e+02, 9.5700e+02, 1.4060e+03, 1.9980e+03, 2.6970e+03,\n",
       "        3.5330e+03, 4.7410e+03, 5.8900e+03, 7.3060e+03, 8.8220e+03,\n",
       "        1.0154e+04, 1.1454e+04, 1.2547e+04, 1.3290e+04, 1.3553e+04,\n",
       "        1.3553e+04, 1.3290e+04, 1.2547e+04, 1.1454e+04, 1.0154e+04,\n",
       "        8.8220e+03, 7.3060e+03, 5.8900e+03, 4.7410e+03, 3.5330e+03,\n",
       "        2.6970e+03, 1.9980e+03, 1.4060e+03, 9.5700e+02, 6.3600e+02,\n",
       "        3.9500e+02, 2.3500e+02, 1.6900e+02, 9.7000e+01, 4.7000e+01,\n",
       "        3.1000e+01, 2.5000e+01, 7.0000e+00, 6.0000e+00, 4.0000e+00]),\n",
       " array([-4.28253826, -4.11123673, -3.9399352 , -3.76863367, -3.59733214,\n",
       "        -3.42603061, -3.25472908, -3.08342755, -2.91212602, -2.74082449,\n",
       "        -2.56952296, -2.39822143, -2.22691989, -2.05561836, -1.88431683,\n",
       "        -1.7130153 , -1.54171377, -1.37041224, -1.19911071, -1.02780918,\n",
       "        -0.85650765, -0.68520612, -0.51390459, -0.34260306, -0.17130153,\n",
       "         0.        ,  0.17130153,  0.34260306,  0.51390459,  0.68520612,\n",
       "         0.85650765,  1.02780918,  1.19911071,  1.37041224,  1.54171377,\n",
       "         1.7130153 ,  1.88431683,  2.05561836,  2.22691989,  2.39822143,\n",
       "         2.56952296,  2.74082449,  2.91212602,  3.08342755,  3.25472908,\n",
       "         3.42603061,  3.59733214,  3.76863367,  3.9399352 ,  4.11123673,\n",
       "         4.28253826]),\n",
       " <a list of 50 Patch objects>)"
      ]
     },
     "execution_count": 19,
     "metadata": {},
     "output_type": "execute_result"
    },
    {
     "data": {
      "image/png": "[encoded data removed]",
      "text/plain": [
       "<Figure size 432x288 with 1 Axes>"
      ]
     },
     "metadata": {
      "needs_background": "light"
     },
     "output_type": "display_data"
    }
   ],
   "source": [
    "plt.hist(y,bins=50)"
   ]
  },
  {
   "cell_type": "markdown",
   "metadata": {},
   "source": [
    "Normalize data will give us a variance of 1"
   ]
  },
  {
   "cell_type": "code",
   "execution_count": 20,
   "metadata": {},
   "outputs": [],
   "source": [
    "z = (y-y.mean()) / y.std()"
   ]
  },
  {
   "cell_type": "code",
   "execution_count": 21,
   "metadata": {},
   "outputs": [
    {
     "name": "stdout",
     "output_type": "stream",
     "text": [
      "   0.9991162344\n",
      "   1.0000000000\n",
      "   0.0000000000\n"
     ]
    }
   ],
   "source": [
    "print(\"{:15.10f}\".format(y.std()))\n",
    "print(\"{:15.10f}\".format(z.std()))\n",
    "print(\"{:15.10f}\".format(z.mean()))"
   ]
  },
  {
   "cell_type": "markdown",
   "metadata": {},
   "source": [
    "To isolate the randomness for sensitivity analsis use a seed value"
   ]
  },
  {
   "cell_type": "code",
   "execution_count": 23,
   "metadata": {},
   "outputs": [
    {
     "data": {
      "text/plain": [
       "array([0.76549076, 0.09639409, 0.81450237, 0.30483251, 0.35395651,\n",
       "       0.46425254, 0.73294854, 0.97351578, 0.12473233, 0.72408954])"
      ]
     },
     "execution_count": 23,
     "metadata": {},
     "output_type": "execute_result"
    }
   ],
   "source": [
    "c = npr.random(10)\n",
    "c"
   ]
  },
  {
   "cell_type": "code",
   "execution_count": 25,
   "metadata": {},
   "outputs": [
    {
     "data": {
      "text/plain": [
       "array([0.37454012, 0.95071431, 0.73199394, 0.59865848, 0.15601864,\n",
       "       0.15599452, 0.05808361, 0.86617615, 0.60111501, 0.70807258])"
      ]
     },
     "execution_count": 25,
     "metadata": {},
     "output_type": "execute_result"
    }
   ],
   "source": [
    "npr.seed(42)\n",
    "d = npr.random(10)\n",
    "d"
   ]
  },
  {
   "cell_type": "code",
   "execution_count": null,
   "metadata": {},
   "outputs": [],
   "source": []
  }
 ],
 "metadata": {
  "kernelspec": {
   "display_name": "Python 3",
   "language": "python",
   "name": "python3"
  },
  "language_info": {
   "codemirror_mode": {
    "name": "ipython",
    "version": 3
   },
   "file_extension": ".py",
   "mimetype": "text/x-python",
   "name": "python",
   "nbconvert_exporter": "python",
   "pygments_lexer": "ipython3",
   "version": "3.7.3"
  }
 },
 "nbformat": 4,
 "nbformat_minor": 4
}
